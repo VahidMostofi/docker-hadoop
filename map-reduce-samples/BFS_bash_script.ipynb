{
 "cells": [
  {
   "cell_type": "markdown",
   "metadata": {},
   "source": [
    "## how to convert a cell to all bash script"
   ]
  },
  {
   "cell_type": "code",
   "execution_count": 4,
   "metadata": {},
   "outputs": [
    {
     "name": "stdout",
     "output_type": "stream",
     "text": [
      "0\n",
      "1\n",
      "2\n",
      "3\n"
     ]
    }
   ],
   "source": [
    "%%bash\n",
    "i=\"0\"\n",
    "\n",
    "while [ $i -lt 4 ]\n",
    "do\n",
    "echo $i\n",
    "i=$[$i+1]\n",
    "done"
   ]
  },
  {
   "cell_type": "markdown",
   "metadata": {},
   "source": [
    "## how to capture a command's output to file"
   ]
  },
  {
   "cell_type": "code",
   "execution_count": 7,
   "metadata": {},
   "outputs": [
    {
     "name": "stdout",
     "output_type": "stream",
     "text": [
      "Deleted /outputs/out\r\n"
     ]
    }
   ],
   "source": [
    "!hdfs dfs -rm -R /outputs/out\n",
    "!hadoop jar /opt/hadoop-3.2.1/share/hadoop/tools/lib/hadoop-streaming-3.2.1.jar \\\n",
    "    -D mapreduce.job.reduces=2 \\\n",
    "    -file $PWD/mapper.py \\\n",
    "    -file $PWD/reducer.py \\\n",
    "    -mapper mapper.py \\\n",
    "    -reducer reducer.py \\\n",
    "    -input /inputs/data \\\n",
    "    -output /outputs/out > /dev/null 2> err.txt"
   ]
  },
  {
   "cell_type": "code",
   "execution_count": 8,
   "metadata": {},
   "outputs": [
    {
     "name": "stdout",
     "output_type": "stream",
     "text": [
      "2020-10-21 18:01:14,633 WARN streaming.StreamJob: -file option is deprecated, please use generic option -files instead.\r\n",
      "2020-10-21 18:01:15,291 INFO client.RMProxy: Connecting to ResourceManager at resourcemanager/172.18.0.6:8032\r\n",
      "2020-10-21 18:01:15,407 INFO client.AHSProxy: Connecting to Application History server at historyserver/172.18.0.4:10200\r\n",
      "2020-10-21 18:01:15,428 INFO client.RMProxy: Connecting to ResourceManager at resourcemanager/172.18.0.6:8032\r\n",
      "2020-10-21 18:01:15,429 INFO client.AHSProxy: Connecting to Application History server at historyserver/172.18.0.4:10200\r\n",
      "2020-10-21 18:01:15,547 INFO mapreduce.JobResourceUploader: Disabling Erasure Coding for path: /tmp/hadoop-yarn/staging/root/.staging/job_1603141762614_0005\r\n",
      "2020-10-21 18:01:15,628 INFO sasl.SaslDataTransferClient: SASL encryption trust check: localHostTrusted = false, remoteHostTrusted = false\r\n",
      "2020-10-21 18:01:15,691 INFO sasl.SaslDataTransferClient: SASL encryption trust check: localHostTrusted = false, remoteHostTrusted = false\r\n",
      "2020-10-21 18:01:15,712 INFO sasl.SaslDataTransferClient: SASL encryption trust check: localHostTrusted = false, remoteHostTrusted = false\r\n",
      "2020-10-21 18:01:15,771 INFO mapred.FileInputFormat: Total input files to process : 3\r\n",
      "2020-10-21 18:01:15,789 INFO sasl.SaslDataTransferClient: SASL encryption trust check: localHostTrusted = false, remoteHostTrusted = false\r\n",
      "2020-10-21 18:01:16,230 INFO sasl.SaslDataTransferClient: SASL encryption trust check: localHostTrusted = false, remoteHostTrusted = false\r\n",
      "2020-10-21 18:01:16,247 INFO mapreduce.JobSubmitter: number of splits:3\r\n",
      "2020-10-21 18:01:16,345 INFO sasl.SaslDataTransferClient: SASL encryption trust check: localHostTrusted = false, remoteHostTrusted = false\r\n",
      "2020-10-21 18:01:16,361 INFO mapreduce.JobSubmitter: Submitting tokens for job: job_1603141762614_0005\r\n",
      "2020-10-21 18:01:16,361 INFO mapreduce.JobSubmitter: Executing with tokens: []\r\n",
      "2020-10-21 18:01:16,477 INFO conf.Configuration: resource-types.xml not found\r\n",
      "2020-10-21 18:01:16,477 INFO resource.ResourceUtils: Unable to find 'resource-types.xml'.\r\n",
      "2020-10-21 18:01:17,129 INFO impl.YarnClientImpl: Submitted application application_1603141762614_0005\r\n",
      "2020-10-21 18:01:17,150 INFO mapreduce.Job: The url to track the job: http://resourcemanager:8088/proxy/application_1603141762614_0005/\r\n",
      "2020-10-21 18:01:17,151 INFO mapreduce.Job: Running job: job_1603141762614_0005\r\n",
      "2020-10-21 18:01:22,287 INFO mapreduce.Job: Job job_1603141762614_0005 running in uber mode : false\r\n",
      "2020-10-21 18:01:22,289 INFO mapreduce.Job:  map 0% reduce 0%\r\n",
      "2020-10-21 18:01:27,380 INFO mapreduce.Job:  map 33% reduce 0%\r\n",
      "2020-10-21 18:01:28,386 INFO mapreduce.Job:  map 67% reduce 0%\r\n",
      "2020-10-21 18:01:29,390 INFO mapreduce.Job:  map 100% reduce 0%\r\n",
      "2020-10-21 18:01:31,412 INFO mapreduce.Job:  map 100% reduce 50%\r\n",
      "2020-10-21 18:01:33,421 INFO mapreduce.Job:  map 100% reduce 100%\r\n",
      "2020-10-21 18:01:33,429 INFO mapreduce.Job: Job job_1603141762614_0005 completed successfully\r\n",
      "2020-10-21 18:01:33,485 INFO mapreduce.Job: Counters: 56\r\n",
      "\tFile System Counters\r\n",
      "\t\tFILE: Number of bytes read=120\r\n",
      "\t\tFILE: Number of bytes written=1164342\r\n",
      "\t\tFILE: Number of read operations=0\r\n",
      "\t\tFILE: Number of large read operations=0\r\n",
      "\t\tFILE: Number of write operations=0\r\n",
      "\t\tHDFS: Number of bytes read=383\r\n",
      "\t\tHDFS: Number of bytes written=152\r\n",
      "\t\tHDFS: Number of read operations=19\r\n",
      "\t\tHDFS: Number of large read operations=0\r\n",
      "\t\tHDFS: Number of write operations=4\r\n",
      "\t\tHDFS: Number of bytes read erasure-coded=0\r\n",
      "\tJob Counters \r\n",
      "\t\tLaunched map tasks=3\r\n",
      "\t\tLaunched reduce tasks=2\r\n",
      "\t\tRack-local map tasks=3\r\n",
      "\t\tTotal time spent by all maps in occupied slots (ms)=21960\r\n",
      "\t\tTotal time spent by all reduces in occupied slots (ms)=23440\r\n",
      "\t\tTotal time spent by all map tasks (ms)=5490\r\n",
      "\t\tTotal time spent by all reduce tasks (ms)=2930\r\n",
      "\t\tTotal vcore-milliseconds taken by all map tasks=5490\r\n",
      "\t\tTotal vcore-milliseconds taken by all reduce tasks=2930\r\n",
      "\t\tTotal megabyte-milliseconds taken by all map tasks=22487040\r\n",
      "\t\tTotal megabyte-milliseconds taken by all reduce tasks=24002560\r\n",
      "\tMap-Reduce Framework\r\n",
      "\t\tMap input records=3\r\n",
      "\t\tMap output records=15\r\n",
      "\t\tMap output bytes=113\r\n",
      "\t\tMap output materialized bytes=205\r\n",
      "\t\tInput split bytes=300\r\n",
      "\t\tCombine input records=0\r\n",
      "\t\tCombine output records=0\r\n",
      "\t\tReduce input groups=8\r\n",
      "\t\tReduce shuffle bytes=205\r\n",
      "\t\tReduce input records=15\r\n",
      "\t\tReduce output records=8\r\n",
      "\t\tSpilled Records=30\r\n",
      "\t\tShuffled Maps =6\r\n",
      "\t\tFailed Shuffles=0\r\n",
      "\t\tMerged Map outputs=6\r\n",
      "\t\tGC time elapsed (ms)=277\r\n",
      "\t\tCPU time spent (ms)=1900\r\n",
      "\t\tPhysical memory (bytes) snapshot=1418776576\r\n",
      "\t\tVirtual memory (bytes) snapshot=31886667776\r\n",
      "\t\tTotal committed heap usage (bytes)=1564999680\r\n",
      "\t\tPeak Map Physical memory (bytes)=433541120\r\n",
      "\t\tPeak Map Virtual memory (bytes)=5039816704\r\n",
      "\t\tPeak Reduce Physical memory (bytes)=191545344\r\n",
      "\t\tPeak Reduce Virtual memory (bytes)=8385146880\r\n",
      "\tShuffle Errors\r\n",
      "\t\tBAD_ID=0\r\n",
      "\t\tCONNECTION=0\r\n",
      "\t\tIO_ERROR=0\r\n",
      "\t\tWRONG_LENGTH=0\r\n",
      "\t\tWRONG_MAP=0\r\n",
      "\t\tWRONG_REDUCE=0\r\n",
      "\texample-info\r\n",
      "\t\tlen=68\r\n",
      "\t\tline_count=18\r\n",
      "\tFile Input Format Counters \r\n",
      "\t\tBytes Read=83\r\n",
      "\tFile Output Format Counters \r\n",
      "\t\tBytes Written=152\r\n",
      "2020-10-21 18:01:33,485 INFO streaming.StreamJob: Output directory: /outputs/out\r\n"
     ]
    }
   ],
   "source": [
    "!cat err.txt"
   ]
  },
  {
   "cell_type": "markdown",
   "metadata": {},
   "source": [
    "### These are the other commands I used when I was creating the script:\n",
    "* cat\n",
    "* grep\n",
    "* cut\n",
    "\n",
    "### You can also do this using python, for this you need to have a third .py file created in the same notebook"
   ]
  },
  {
   "cell_type": "code",
   "execution_count": null,
   "metadata": {},
   "outputs": [],
   "source": []
  }
 ],
 "metadata": {
  "kernelspec": {
   "display_name": "Python 3",
   "language": "python",
   "name": "python3"
  },
  "language_info": {
   "codemirror_mode": {
    "name": "ipython",
    "version": 3
   },
   "file_extension": ".py",
   "mimetype": "text/x-python",
   "name": "python",
   "nbconvert_exporter": "python",
   "pygments_lexer": "ipython3",
   "version": "3.8.1"
  }
 },
 "nbformat": 4,
 "nbformat_minor": 4
}
